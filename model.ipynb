{
 "cells": [
  {
   "cell_type": "code",
   "execution_count": 1,
   "metadata": {},
   "outputs": [],
   "source": [
    "# Basic modules \n",
    "from PIL import Image\n",
    "import matplotlib.pyplot as plt\n",
    "import numpy as np\n",
    "import pandas as pd \n",
    "from keras.preprocessing.image import ImageDataGenerator\n",
    "from keras.utils import load_img\n",
    "from keras.utils import to_categorical\n",
    "from sklearn.model_selection import train_test_split\n",
    "import matplotlib.pyplot as plt\n",
    "import random\n",
    "import os\n",
    "import shutil\n",
    "\n",
    "# For Model Creation \n",
    "from keras.models import Sequential\n",
    "from keras.layers import Dense\n",
    "from keras.layers import Dropout, GaussianNoise, GaussianDropout\n",
    "from keras.layers import Flatten, BatchNormalization\n",
    "from keras.layers.convolutional import Conv2D, SeparableConv2D, AveragePooling2D\n",
    "from keras.constraints import maxnorm\n",
    "from keras.layers.convolutional import MaxPooling2D\n",
    "from keras.utils import np_utils\n",
    "from keras import backend as K\n",
    "from keras import regularizers, optimizers\n",
    "from keras.optimizers import Adam"
   ]
  },
  {
   "cell_type": "code",
   "execution_count": 2,
   "metadata": {},
   "outputs": [],
   "source": [
    "path = r'archive'"
   ]
  },
  {
   "cell_type": "code",
   "execution_count": 3,
   "metadata": {},
   "outputs": [],
   "source": [
    "train = pd.read_csv(path+'/trainData.csv')\n",
    "\n",
    "image = (path+\"/trainImgs/trainImgs/44e951e45dca.png\")"
   ]
  },
  {
   "cell_type": "code",
   "execution_count": 4,
   "metadata": {},
   "outputs": [
    {
     "name": "stdout",
     "output_type": "stream",
     "text": [
      "       id_code  diagnosis\n",
      "0  35867_right          3\n",
      "1   4620_right          3\n",
      "2   12063_left          1\n",
      "3    9680_left          4\n",
      "4  16727_right          3\n"
     ]
    },
    {
     "data": {
      "text/plain": [
       "(7243, 2)"
      ]
     },
     "execution_count": 4,
     "metadata": {},
     "output_type": "execute_result"
    }
   ],
   "source": [
    "print(train.head())\n",
    "train.shape"
   ]
  },
  {
   "cell_type": "code",
   "execution_count": 5,
   "metadata": {},
   "outputs": [
    {
     "data": {
      "image/png": "[encoded data removed]",
      "text/plain": [
       "<Figure size 720x360 with 1 Axes>"
      ]
     },
     "metadata": {
      "needs_background": "light"
     },
     "output_type": "display_data"
    }
   ],
   "source": [
    "train.hist(bins=50,figsize=(10,5))\n",
    "plt.show()"
   ]
  },
  {
   "cell_type": "code",
   "execution_count": 6,
   "metadata": {},
   "outputs": [
    {
     "data": {
      "text/plain": [
       "0       3\n",
       "1       3\n",
       "2       1\n",
       "3       4\n",
       "4       3\n",
       "       ..\n",
       "7238    2\n",
       "7239    0\n",
       "7240    2\n",
       "7241    0\n",
       "7242    2\n",
       "Name: diagnosis, Length: 7243, dtype: string"
      ]
     },
     "execution_count": 6,
     "metadata": {},
     "output_type": "execute_result"
    }
   ],
   "source": [
    "from sklearn.model_selection import train_test_split\n",
    "train['diagnosis'] =  train['diagnosis'].astype(str)\n",
    "train['diagnosis'] =  train['diagnosis'].astype('string')\n",
    "train['id_code'] =  train['id_code'].astype(str)+'.png'\n",
    "X=train['id_code']\n",
    "Y=train['diagnosis']\n",
    "Y"
   ]
  },
  {
   "cell_type": "code",
   "execution_count": 7,
   "metadata": {},
   "outputs": [
    {
     "name": "stdout",
     "output_type": "stream",
     "text": [
      "(5794,) (1449,) (5794,) (1449,)\n"
     ]
    }
   ],
   "source": [
    "X_train, X_test, Y_train, Y_test = train_test_split(X, Y, test_size=0.2,)\n",
    "print(X_train.shape, X_test.shape, Y_train.shape, Y_test.shape)"
   ]
  },
  {
   "cell_type": "code",
   "execution_count": 8,
   "metadata": {},
   "outputs": [
    {
     "name": "stdout",
     "output_type": "stream",
     "text": [
      "Found 5795 validated image filenames belonging to 5 classes.\n",
      "Found 1448 validated image filenames belonging to 5 classes.\n"
     ]
    }
   ],
   "source": [
    "image_size = 100\n",
    "batch_size = 40\n",
    "directory = path + \"/trainImgs/trainImgs\"\n",
    "common_args = dict(\n",
    "    directory=directory,\n",
    "    x_col=\"id_code\",\n",
    "    y_col=\"diagnosis\",\n",
    "    batch_size=batch_size,\n",
    "    shuffle=True,\n",
    "    class_mode=\"categorical\",\n",
    "    target_size=(image_size, image_size))\n",
    "\n",
    "def generate_data_gen(dataframe, subset):\n",
    "    datagen = ImageDataGenerator(\n",
    "        rescale=1./255,\n",
    "        validation_split=0.2,\n",
    "        vertical_flip=True,\n",
    "        horizontal_flip=True)\n",
    "    \n",
    "    return datagen.flow_from_dataframe(\n",
    "        dataframe=dataframe,\n",
    "        subset=subset,\n",
    "        **common_args)\n",
    "\n",
    "\n",
    "train_gen = generate_data_gen(train, 'training')\n",
    "test_gen = generate_data_gen(train, 'validation')"
   ]
  },
  {
   "cell_type": "code",
   "execution_count": 9,
   "metadata": {},
   "outputs": [
    {
     "data": {
      "text/plain": [
       "array([[0., 0., 0., 1., 0.],\n",
       "       [0., 0., 0., 1., 0.],\n",
       "       [0., 1., 0., 0., 0.],\n",
       "       ...,\n",
       "       [0., 0., 1., 0., 0.],\n",
       "       [1., 0., 0., 0., 0.],\n",
       "       [0., 0., 1., 0., 0.]], dtype=float32)"
      ]
     },
     "execution_count": 9,
     "metadata": {},
     "output_type": "execute_result"
    }
   ],
   "source": [
    "y_train = train['diagnosis']\n",
    "from keras.utils import np_utils\n",
    "y_train = np_utils.to_categorical(y_train)\n",
    "num_classes = y_train.shape[1]\n",
    "y_train"
   ]
  },
  {
   "cell_type": "code",
   "execution_count": 10,
   "metadata": {},
   "outputs": [],
   "source": [
    "def build_model():\n",
    "    # create model\n",
    "    model = Sequential()\n",
    "    #model.add(Reshape((x_train.shape[0],),))\n",
    "    #model.add(GaussianDropout(0.3,input_shape=[96,96,3]))\n",
    "    model.add(Conv2D(filters = 32, kernel_size = (5,5),padding = 'Same',activation ='relu', input_shape = (100,100,3)))\n",
    "    model.add(GaussianDropout(0.3))\n",
    "    model.add(Conv2D(64, (5, 5), activation='relu', kernel_constraint=maxnorm(3)))\n",
    "    model.add(MaxPooling2D(pool_size=(2, 2)))\n",
    "    model.add(Conv2D(64, (3, 3), activation='relu'))\n",
    "    model.add(MaxPooling2D(pool_size=(2, 2)))\n",
    "    model.add(Conv2D(96, (5, 5), activation='relu'))\n",
    "    \n",
    "    model.add(Dropout(0.2))\n",
    "    model.add(Flatten())\n",
    "    model.add(Dense(128, activation='relu', kernel_regularizer=regularizers.l2(0.01)))\n",
    "    model.add(Dense(50, activation='relu'))\n",
    "    model.add(Dense(num_classes, activation='softmax', kernel_regularizer=regularizers.l2(0.0001)\n",
    "                   ,activity_regularizer=regularizers.l1(0.01)))\n",
    "    # Compile model\n",
    "    model.compile(loss='categorical_crossentropy', optimizer=optimizers.Adam(lr=0.0001, amsgrad=True), metrics=['accuracy'])\n",
    "    return model"
   ]
  },
  {
   "cell_type": "code",
   "execution_count": 11,
   "metadata": {},
   "outputs": [
    {
     "name": "stdout",
     "output_type": "stream",
     "text": [
      "Model: \"sequential\"\n",
      "_________________________________________________________________\n",
      " Layer (type)                Output Shape              Param #   \n",
      "=================================================================\n",
      " conv2d (Conv2D)             (None, 100, 100, 32)      2432      \n",
      "                                                                 \n",
      " gaussian_dropout (GaussianD  (None, 100, 100, 32)     0         \n",
      " ropout)                                                         \n",
      "                                                                 \n",
      " conv2d_1 (Conv2D)           (None, 96, 96, 64)        51264     \n",
      "                                                                 \n",
      " max_pooling2d (MaxPooling2D  (None, 48, 48, 64)       0         \n",
      " )                                                               \n",
      "                                                                 \n",
      " conv2d_2 (Conv2D)           (None, 46, 46, 64)        36928     \n",
      "                                                                 \n",
      " max_pooling2d_1 (MaxPooling  (None, 23, 23, 64)       0         \n",
      " 2D)                                                             \n",
      "                                                                 \n",
      " conv2d_3 (Conv2D)           (None, 19, 19, 96)        153696    \n",
      "                                                                 \n",
      " dropout (Dropout)           (None, 19, 19, 96)        0         \n",
      "                                                                 \n",
      " flatten (Flatten)           (None, 34656)             0         \n",
      "                                                                 \n",
      " dense (Dense)               (None, 128)               4436096   \n",
      "                                                                 \n",
      " dense_1 (Dense)             (None, 50)                6450      \n",
      "                                                                 \n",
      " dense_2 (Dense)             (None, 5)                 255       \n",
      "                                                                 \n",
      "=================================================================\n",
      "Total params: 4,687,121\n",
      "Trainable params: 4,687,121\n",
      "Non-trainable params: 0\n",
      "_________________________________________________________________\n"
     ]
    },
    {
     "name": "stderr",
     "output_type": "stream",
     "text": [
      "c:\\Users\\Rameshwari\\AppData\\Local\\Programs\\Python\\Python310\\lib\\site-packages\\keras\\optimizers\\optimizer_v2\\adam.py:114: UserWarning: The `lr` argument is deprecated, use `learning_rate` instead.\n",
      "  super().__init__(name, **kwargs)\n"
     ]
    }
   ],
   "source": [
    "model = build_model()\n",
    "model.summary()"
   ]
  },
  {
   "cell_type": "code",
   "execution_count": 13,
   "metadata": {},
   "outputs": [],
   "source": [
    "from keras.callbacks import EarlyStopping, ModelCheckpoint\n",
    "es= EarlyStopping(monitor='val_loss', mode ='min', verbose = 1, patience = 20)\n",
    "mc = ModelCheckpoint('blindness.model', monitor='val_loss', save_best_only = True, mode ='min', verbose = 1)"
   ]
  },
  {
   "cell_type": "code",
   "execution_count": 14,
   "metadata": {},
   "outputs": [
    {
     "name": "stderr",
     "output_type": "stream",
     "text": [
      "C:\\Users\\Rameshwari\\AppData\\Local\\Temp\\ipykernel_27724\\2130852465.py:1: UserWarning: `Model.fit_generator` is deprecated and will be removed in a future version. Please use `Model.fit`, which supports generators.\n",
      "  model22=model.fit_generator(generator=train_gen,\n"
     ]
    },
    {
     "name": "stdout",
     "output_type": "stream",
     "text": [
      "Epoch 1/50\n",
      "145/145 [==============================] - ETA: 0s - loss: 2.5205 - accuracy: 0.3287\n",
      "Epoch 1: val_loss improved from inf to 2.03400, saving model to blindness.model\n"
     ]
    },
    {
     "name": "stderr",
     "output_type": "stream",
     "text": [
      "WARNING:absl:Found untraced functions such as _jit_compiled_convolution_op, _jit_compiled_convolution_op, _jit_compiled_convolution_op, _jit_compiled_convolution_op while saving (showing 4 of 4). These functions will not be directly callable after loading.\n"
     ]
    },
    {
     "name": "stdout",
     "output_type": "stream",
     "text": [
      "INFO:tensorflow:Assets written to: blindness.model\\assets\n"
     ]
    },
    {
     "name": "stderr",
     "output_type": "stream",
     "text": [
      "INFO:tensorflow:Assets written to: blindness.model\\assets\n"
     ]
    },
    {
     "name": "stdout",
     "output_type": "stream",
     "text": [
      "145/145 [==============================] - 44s 275ms/step - loss: 2.5205 - accuracy: 0.3287 - val_loss: 2.0340 - val_accuracy: 0.1222\n",
      "Epoch 2/50\n",
      "145/145 [==============================] - ETA: 0s - loss: 1.6766 - accuracy: 0.3750\n",
      "Epoch 2: val_loss improved from 2.03400 to 1.78908, saving model to blindness.model\n"
     ]
    },
    {
     "name": "stderr",
     "output_type": "stream",
     "text": [
      "WARNING:absl:Found untraced functions such as _jit_compiled_convolution_op, _jit_compiled_convolution_op, _jit_compiled_convolution_op, _jit_compiled_convolution_op while saving (showing 4 of 4). These functions will not be directly callable after loading.\n"
     ]
    },
    {
     "name": "stdout",
     "output_type": "stream",
     "text": [
      "INFO:tensorflow:Assets written to: blindness.model\\assets\n"
     ]
    },
    {
     "name": "stderr",
     "output_type": "stream",
     "text": [
      "INFO:tensorflow:Assets written to: blindness.model\\assets\n"
     ]
    },
    {
     "name": "stdout",
     "output_type": "stream",
     "text": [
      "145/145 [==============================] - 37s 250ms/step - loss: 1.6766 - accuracy: 0.3750 - val_loss: 1.7891 - val_accuracy: 0.2307\n",
      "Epoch 3/50\n",
      "145/145 [==============================] - ETA: 0s - loss: 1.5329 - accuracy: 0.4169\n",
      "Epoch 3: val_loss improved from 1.78908 to 1.72326, saving model to blindness.model\n"
     ]
    },
    {
     "name": "stderr",
     "output_type": "stream",
     "text": [
      "WARNING:absl:Found untraced functions such as _jit_compiled_convolution_op, _jit_compiled_convolution_op, _jit_compiled_convolution_op, _jit_compiled_convolution_op while saving (showing 4 of 4). These functions will not be directly callable after loading.\n"
     ]
    },
    {
     "name": "stdout",
     "output_type": "stream",
     "text": [
      "INFO:tensorflow:Assets written to: blindness.model\\assets\n"
     ]
    },
    {
     "name": "stderr",
     "output_type": "stream",
     "text": [
      "INFO:tensorflow:Assets written to: blindness.model\\assets\n"
     ]
    },
    {
     "name": "stdout",
     "output_type": "stream",
     "text": [
      "145/145 [==============================] - 36s 246ms/step - loss: 1.5329 - accuracy: 0.4169 - val_loss: 1.7233 - val_accuracy: 0.2631\n",
      "Epoch 4/50\n",
      "145/145 [==============================] - ETA: 0s - loss: 1.4410 - accuracy: 0.4528\n",
      "Epoch 4: val_loss improved from 1.72326 to 1.69252, saving model to blindness.model\n"
     ]
    },
    {
     "name": "stderr",
     "output_type": "stream",
     "text": [
      "WARNING:absl:Found untraced functions such as _jit_compiled_convolution_op, _jit_compiled_convolution_op, _jit_compiled_convolution_op, _jit_compiled_convolution_op while saving (showing 4 of 4). These functions will not be directly callable after loading.\n"
     ]
    },
    {
     "name": "stdout",
     "output_type": "stream",
     "text": [
      "INFO:tensorflow:Assets written to: blindness.model\\assets\n"
     ]
    },
    {
     "name": "stderr",
     "output_type": "stream",
     "text": [
      "INFO:tensorflow:Assets written to: blindness.model\\assets\n"
     ]
    },
    {
     "name": "stdout",
     "output_type": "stream",
     "text": [
      "145/145 [==============================] - 40s 271ms/step - loss: 1.4410 - accuracy: 0.4528 - val_loss: 1.6925 - val_accuracy: 0.2762\n",
      "Epoch 5/50\n",
      "145/145 [==============================] - ETA: 0s - loss: 1.3854 - accuracy: 0.4806\n",
      "Epoch 5: val_loss improved from 1.69252 to 1.62408, saving model to blindness.model\n"
     ]
    },
    {
     "name": "stderr",
     "output_type": "stream",
     "text": [
      "WARNING:absl:Found untraced functions such as _jit_compiled_convolution_op, _jit_compiled_convolution_op, _jit_compiled_convolution_op, _jit_compiled_convolution_op while saving (showing 4 of 4). These functions will not be directly callable after loading.\n"
     ]
    },
    {
     "name": "stdout",
     "output_type": "stream",
     "text": [
      "INFO:tensorflow:Assets written to: blindness.model\\assets\n"
     ]
    },
    {
     "name": "stderr",
     "output_type": "stream",
     "text": [
      "INFO:tensorflow:Assets written to: blindness.model\\assets\n"
     ]
    },
    {
     "name": "stdout",
     "output_type": "stream",
     "text": [
      "145/145 [==============================] - 37s 255ms/step - loss: 1.3854 - accuracy: 0.4806 - val_loss: 1.6241 - val_accuracy: 0.2970\n",
      "Epoch 6/50\n",
      "145/145 [==============================] - ETA: 0s - loss: 1.3373 - accuracy: 0.4985\n",
      "Epoch 6: val_loss improved from 1.62408 to 1.56527, saving model to blindness.model\n"
     ]
    },
    {
     "name": "stderr",
     "output_type": "stream",
     "text": [
      "WARNING:absl:Found untraced functions such as _jit_compiled_convolution_op, _jit_compiled_convolution_op, _jit_compiled_convolution_op, _jit_compiled_convolution_op while saving (showing 4 of 4). These functions will not be directly callable after loading.\n"
     ]
    },
    {
     "name": "stdout",
     "output_type": "stream",
     "text": [
      "INFO:tensorflow:Assets written to: blindness.model\\assets\n"
     ]
    },
    {
     "name": "stderr",
     "output_type": "stream",
     "text": [
      "INFO:tensorflow:Assets written to: blindness.model\\assets\n"
     ]
    },
    {
     "name": "stdout",
     "output_type": "stream",
     "text": [
      "145/145 [==============================] - 36s 247ms/step - loss: 1.3373 - accuracy: 0.4985 - val_loss: 1.5653 - val_accuracy: 0.2714\n",
      "Epoch 7/50\n",
      "145/145 [==============================] - ETA: 0s - loss: 1.2970 - accuracy: 0.5073\n",
      "Epoch 7: val_loss improved from 1.56527 to 1.54447, saving model to blindness.model\n"
     ]
    },
    {
     "name": "stderr",
     "output_type": "stream",
     "text": [
      "WARNING:absl:Found untraced functions such as _jit_compiled_convolution_op, _jit_compiled_convolution_op, _jit_compiled_convolution_op, _jit_compiled_convolution_op while saving (showing 4 of 4). These functions will not be directly callable after loading.\n"
     ]
    },
    {
     "name": "stdout",
     "output_type": "stream",
     "text": [
      "INFO:tensorflow:Assets written to: blindness.model\\assets\n"
     ]
    },
    {
     "name": "stderr",
     "output_type": "stream",
     "text": [
      "INFO:tensorflow:Assets written to: blindness.model\\assets\n"
     ]
    },
    {
     "name": "stdout",
     "output_type": "stream",
     "text": [
      "145/145 [==============================] - 39s 265ms/step - loss: 1.2970 - accuracy: 0.5073 - val_loss: 1.5445 - val_accuracy: 0.3356\n",
      "Epoch 8/50\n",
      "145/145 [==============================] - ETA: 0s - loss: 1.2715 - accuracy: 0.5215\n",
      "Epoch 8: val_loss did not improve from 1.54447\n",
      "145/145 [==============================] - 33s 225ms/step - loss: 1.2715 - accuracy: 0.5215 - val_loss: 1.6941 - val_accuracy: 0.3080\n",
      "Epoch 9/50\n",
      "145/145 [==============================] - ETA: 0s - loss: 1.2432 - accuracy: 0.5399\n",
      "Epoch 9: val_loss did not improve from 1.54447\n",
      "145/145 [==============================] - 32s 222ms/step - loss: 1.2432 - accuracy: 0.5399 - val_loss: 1.6629 - val_accuracy: 0.2928\n",
      "Epoch 10/50\n",
      "145/145 [==============================] - ETA: 0s - loss: 1.2131 - accuracy: 0.5425\n",
      "Epoch 10: val_loss improved from 1.54447 to 1.53162, saving model to blindness.model\n"
     ]
    },
    {
     "name": "stderr",
     "output_type": "stream",
     "text": [
      "WARNING:absl:Found untraced functions such as _jit_compiled_convolution_op, _jit_compiled_convolution_op, _jit_compiled_convolution_op, _jit_compiled_convolution_op while saving (showing 4 of 4). These functions will not be directly callable after loading.\n"
     ]
    },
    {
     "name": "stdout",
     "output_type": "stream",
     "text": [
      "INFO:tensorflow:Assets written to: blindness.model\\assets\n"
     ]
    },
    {
     "name": "stderr",
     "output_type": "stream",
     "text": [
      "INFO:tensorflow:Assets written to: blindness.model\\assets\n"
     ]
    },
    {
     "name": "stdout",
     "output_type": "stream",
     "text": [
      "145/145 [==============================] - 37s 256ms/step - loss: 1.2131 - accuracy: 0.5425 - val_loss: 1.5316 - val_accuracy: 0.3211\n",
      "Epoch 11/50\n",
      "145/145 [==============================] - ETA: 0s - loss: 1.2046 - accuracy: 0.5460\n",
      "Epoch 11: val_loss did not improve from 1.53162\n",
      "145/145 [==============================] - 37s 252ms/step - loss: 1.2046 - accuracy: 0.5460 - val_loss: 1.5939 - val_accuracy: 0.3467\n",
      "Epoch 12/50\n",
      "145/145 [==============================] - ETA: 0s - loss: 1.1599 - accuracy: 0.5710\n",
      "Epoch 12: val_loss improved from 1.53162 to 1.52164, saving model to blindness.model\n"
     ]
    },
    {
     "name": "stderr",
     "output_type": "stream",
     "text": [
      "WARNING:absl:Found untraced functions such as _jit_compiled_convolution_op, _jit_compiled_convolution_op, _jit_compiled_convolution_op, _jit_compiled_convolution_op while saving (showing 4 of 4). These functions will not be directly callable after loading.\n"
     ]
    },
    {
     "name": "stdout",
     "output_type": "stream",
     "text": [
      "INFO:tensorflow:Assets written to: blindness.model\\assets\n"
     ]
    },
    {
     "name": "stderr",
     "output_type": "stream",
     "text": [
      "INFO:tensorflow:Assets written to: blindness.model\\assets\n"
     ]
    },
    {
     "name": "stdout",
     "output_type": "stream",
     "text": [
      "145/145 [==============================] - 41s 279ms/step - loss: 1.1599 - accuracy: 0.5710 - val_loss: 1.5216 - val_accuracy: 0.3488\n",
      "Epoch 13/50\n",
      "145/145 [==============================] - ETA: 0s - loss: 1.1446 - accuracy: 0.5824\n",
      "Epoch 13: val_loss did not improve from 1.52164\n",
      "145/145 [==============================] - 38s 257ms/step - loss: 1.1446 - accuracy: 0.5824 - val_loss: 1.6054 - val_accuracy: 0.3391\n",
      "Epoch 14/50\n",
      "145/145 [==============================] - ETA: 0s - loss: 1.1258 - accuracy: 0.5874\n",
      "Epoch 14: val_loss did not improve from 1.52164\n",
      "145/145 [==============================] - 38s 259ms/step - loss: 1.1258 - accuracy: 0.5874 - val_loss: 1.5849 - val_accuracy: 0.3591\n",
      "Epoch 15/50\n",
      "145/145 [==============================] - ETA: 0s - loss: 1.1143 - accuracy: 0.5986\n",
      "Epoch 15: val_loss did not improve from 1.52164\n",
      "145/145 [==============================] - 35s 241ms/step - loss: 1.1143 - accuracy: 0.5986 - val_loss: 1.5315 - val_accuracy: 0.3529\n",
      "Epoch 16/50\n",
      "145/145 [==============================] - ETA: 0s - loss: 1.0941 - accuracy: 0.5969\n",
      "Epoch 16: val_loss did not improve from 1.52164\n",
      "145/145 [==============================] - 35s 239ms/step - loss: 1.0941 - accuracy: 0.5969 - val_loss: 1.5525 - val_accuracy: 0.3522\n",
      "Epoch 17/50\n",
      "145/145 [==============================] - ETA: 0s - loss: 1.0716 - accuracy: 0.6155\n",
      "Epoch 17: val_loss improved from 1.52164 to 1.48302, saving model to blindness.model\n"
     ]
    },
    {
     "name": "stderr",
     "output_type": "stream",
     "text": [
      "WARNING:absl:Found untraced functions such as _jit_compiled_convolution_op, _jit_compiled_convolution_op, _jit_compiled_convolution_op, _jit_compiled_convolution_op while saving (showing 4 of 4). These functions will not be directly callable after loading.\n"
     ]
    },
    {
     "name": "stdout",
     "output_type": "stream",
     "text": [
      "INFO:tensorflow:Assets written to: blindness.model\\assets\n"
     ]
    },
    {
     "name": "stderr",
     "output_type": "stream",
     "text": [
      "INFO:tensorflow:Assets written to: blindness.model\\assets\n"
     ]
    },
    {
     "name": "stdout",
     "output_type": "stream",
     "text": [
      "145/145 [==============================] - 38s 257ms/step - loss: 1.0716 - accuracy: 0.6155 - val_loss: 1.4830 - val_accuracy: 0.4081\n",
      "Epoch 18/50\n",
      "145/145 [==============================] - ETA: 0s - loss: 1.0645 - accuracy: 0.6205\n",
      "Epoch 18: val_loss did not improve from 1.48302\n",
      "145/145 [==============================] - 34s 234ms/step - loss: 1.0645 - accuracy: 0.6205 - val_loss: 1.5003 - val_accuracy: 0.3729\n",
      "Epoch 19/50\n",
      "145/145 [==============================] - ETA: 0s - loss: 1.0482 - accuracy: 0.6226\n",
      "Epoch 19: val_loss improved from 1.48302 to 1.48072, saving model to blindness.model\n"
     ]
    },
    {
     "name": "stderr",
     "output_type": "stream",
     "text": [
      "WARNING:absl:Found untraced functions such as _jit_compiled_convolution_op, _jit_compiled_convolution_op, _jit_compiled_convolution_op, _jit_compiled_convolution_op while saving (showing 4 of 4). These functions will not be directly callable after loading.\n"
     ]
    },
    {
     "name": "stdout",
     "output_type": "stream",
     "text": [
      "INFO:tensorflow:Assets written to: blindness.model\\assets\n"
     ]
    },
    {
     "name": "stderr",
     "output_type": "stream",
     "text": [
      "INFO:tensorflow:Assets written to: blindness.model\\assets\n"
     ]
    },
    {
     "name": "stdout",
     "output_type": "stream",
     "text": [
      "145/145 [==============================] - 37s 256ms/step - loss: 1.0482 - accuracy: 0.6226 - val_loss: 1.4807 - val_accuracy: 0.3902\n",
      "Epoch 20/50\n",
      "145/145 [==============================] - ETA: 0s - loss: 1.0382 - accuracy: 0.6342\n",
      "Epoch 20: val_loss did not improve from 1.48072\n",
      "145/145 [==============================] - 34s 233ms/step - loss: 1.0382 - accuracy: 0.6342 - val_loss: 1.5790 - val_accuracy: 0.3743\n",
      "Epoch 21/50\n",
      "145/145 [==============================] - ETA: 0s - loss: 1.0262 - accuracy: 0.6414\n",
      "Epoch 21: val_loss improved from 1.48072 to 1.44594, saving model to blindness.model\n"
     ]
    },
    {
     "name": "stderr",
     "output_type": "stream",
     "text": [
      "WARNING:absl:Found untraced functions such as _jit_compiled_convolution_op, _jit_compiled_convolution_op, _jit_compiled_convolution_op, _jit_compiled_convolution_op while saving (showing 4 of 4). These functions will not be directly callable after loading.\n"
     ]
    },
    {
     "name": "stdout",
     "output_type": "stream",
     "text": [
      "INFO:tensorflow:Assets written to: blindness.model\\assets\n"
     ]
    },
    {
     "name": "stderr",
     "output_type": "stream",
     "text": [
      "INFO:tensorflow:Assets written to: blindness.model\\assets\n"
     ]
    },
    {
     "name": "stdout",
     "output_type": "stream",
     "text": [
      "145/145 [==============================] - 37s 257ms/step - loss: 1.0262 - accuracy: 0.6414 - val_loss: 1.4459 - val_accuracy: 0.4019\n",
      "Epoch 22/50\n",
      "145/145 [==============================] - ETA: 0s - loss: 1.0108 - accuracy: 0.6462\n",
      "Epoch 22: val_loss did not improve from 1.44594\n",
      "145/145 [==============================] - 34s 233ms/step - loss: 1.0108 - accuracy: 0.6462 - val_loss: 1.5179 - val_accuracy: 0.4081\n",
      "Epoch 23/50\n",
      "145/145 [==============================] - ETA: 0s - loss: 0.9924 - accuracy: 0.6518\n",
      "Epoch 23: val_loss did not improve from 1.44594\n",
      "145/145 [==============================] - 35s 238ms/step - loss: 0.9924 - accuracy: 0.6518 - val_loss: 1.5097 - val_accuracy: 0.3840\n",
      "Epoch 24/50\n",
      "145/145 [==============================] - ETA: 0s - loss: 0.9781 - accuracy: 0.6626\n",
      "Epoch 24: val_loss did not improve from 1.44594\n",
      "145/145 [==============================] - 34s 234ms/step - loss: 0.9781 - accuracy: 0.6626 - val_loss: 1.5688 - val_accuracy: 0.4061\n",
      "Epoch 25/50\n",
      "145/145 [==============================] - ETA: 0s - loss: 0.9805 - accuracy: 0.6664\n",
      "Epoch 25: val_loss did not improve from 1.44594\n",
      "145/145 [==============================] - 35s 241ms/step - loss: 0.9805 - accuracy: 0.6664 - val_loss: 1.4724 - val_accuracy: 0.3798\n",
      "Epoch 26/50\n",
      "145/145 [==============================] - ETA: 0s - loss: 0.9567 - accuracy: 0.6770\n",
      "Epoch 26: val_loss did not improve from 1.44594\n",
      "145/145 [==============================] - 35s 240ms/step - loss: 0.9567 - accuracy: 0.6770 - val_loss: 1.5633 - val_accuracy: 0.4075\n",
      "Epoch 27/50\n",
      "145/145 [==============================] - ETA: 0s - loss: 0.9461 - accuracy: 0.6790\n",
      "Epoch 27: val_loss did not improve from 1.44594\n",
      "145/145 [==============================] - 35s 243ms/step - loss: 0.9461 - accuracy: 0.6790 - val_loss: 1.5355 - val_accuracy: 0.3798\n",
      "Epoch 28/50\n",
      "145/145 [==============================] - ETA: 0s - loss: 0.9369 - accuracy: 0.6932\n",
      "Epoch 28: val_loss did not improve from 1.44594\n",
      "145/145 [==============================] - 35s 243ms/step - loss: 0.9369 - accuracy: 0.6932 - val_loss: 1.5739 - val_accuracy: 0.3923\n",
      "Epoch 29/50\n",
      "145/145 [==============================] - ETA: 0s - loss: 0.9228 - accuracy: 0.6987\n",
      "Epoch 29: val_loss did not improve from 1.44594\n",
      "145/145 [==============================] - 35s 239ms/step - loss: 0.9228 - accuracy: 0.6987 - val_loss: 1.5034 - val_accuracy: 0.4378\n",
      "Epoch 30/50\n",
      "145/145 [==============================] - ETA: 0s - loss: 0.9099 - accuracy: 0.7015\n",
      "Epoch 30: val_loss did not improve from 1.44594\n",
      "145/145 [==============================] - 35s 242ms/step - loss: 0.9099 - accuracy: 0.7015 - val_loss: 1.5414 - val_accuracy: 0.4206\n",
      "Epoch 31/50\n",
      "145/145 [==============================] - ETA: 0s - loss: 0.8923 - accuracy: 0.7094\n",
      "Epoch 31: val_loss did not improve from 1.44594\n",
      "145/145 [==============================] - 35s 241ms/step - loss: 0.8923 - accuracy: 0.7094 - val_loss: 1.5746 - val_accuracy: 0.4006\n",
      "Epoch 32/50\n",
      "145/145 [==============================] - ETA: 0s - loss: 0.8874 - accuracy: 0.7156\n",
      "Epoch 32: val_loss did not improve from 1.44594\n",
      "145/145 [==============================] - 40s 276ms/step - loss: 0.8874 - accuracy: 0.7156 - val_loss: 1.7016 - val_accuracy: 0.3860\n",
      "Epoch 33/50\n",
      "145/145 [==============================] - ETA: 0s - loss: 0.8774 - accuracy: 0.7135\n",
      "Epoch 33: val_loss did not improve from 1.44594\n",
      "145/145 [==============================] - 34s 234ms/step - loss: 0.8774 - accuracy: 0.7135 - val_loss: 1.5767 - val_accuracy: 0.3971\n",
      "Epoch 34/50\n",
      "145/145 [==============================] - ETA: 0s - loss: 0.8625 - accuracy: 0.7287\n",
      "Epoch 34: val_loss did not improve from 1.44594\n",
      "145/145 [==============================] - 41s 282ms/step - loss: 0.8625 - accuracy: 0.7287 - val_loss: 1.6626 - val_accuracy: 0.3653\n",
      "Epoch 35/50\n",
      "145/145 [==============================] - ETA: 0s - loss: 0.8408 - accuracy: 0.7356\n",
      "Epoch 35: val_loss did not improve from 1.44594\n",
      "145/145 [==============================] - 36s 243ms/step - loss: 0.8408 - accuracy: 0.7356 - val_loss: 1.6668 - val_accuracy: 0.4006\n",
      "Epoch 36/50\n",
      "145/145 [==============================] - ETA: 0s - loss: 0.8392 - accuracy: 0.7465\n",
      "Epoch 36: val_loss did not improve from 1.44594\n",
      "145/145 [==============================] - 42s 291ms/step - loss: 0.8392 - accuracy: 0.7465 - val_loss: 1.6558 - val_accuracy: 0.4137\n",
      "Epoch 37/50\n",
      "145/145 [==============================] - ETA: 0s - loss: 0.8357 - accuracy: 0.7450\n",
      "Epoch 37: val_loss did not improve from 1.44594\n",
      "145/145 [==============================] - 34s 233ms/step - loss: 0.8357 - accuracy: 0.7450 - val_loss: 1.6739 - val_accuracy: 0.3992\n",
      "Epoch 38/50\n",
      "145/145 [==============================] - ETA: 0s - loss: 0.7922 - accuracy: 0.7639\n",
      "Epoch 38: val_loss did not improve from 1.44594\n",
      "145/145 [==============================] - 33s 224ms/step - loss: 0.7922 - accuracy: 0.7639 - val_loss: 1.8884 - val_accuracy: 0.3798\n",
      "Epoch 39/50\n",
      "145/145 [==============================] - ETA: 0s - loss: 0.8125 - accuracy: 0.7519\n",
      "Epoch 39: val_loss did not improve from 1.44594\n",
      "145/145 [==============================] - 33s 224ms/step - loss: 0.8125 - accuracy: 0.7519 - val_loss: 1.6301 - val_accuracy: 0.4157\n",
      "Epoch 40/50\n",
      "145/145 [==============================] - ETA: 0s - loss: 0.7856 - accuracy: 0.7582\n",
      "Epoch 40: val_loss did not improve from 1.44594\n",
      "145/145 [==============================] - 33s 225ms/step - loss: 0.7856 - accuracy: 0.7582 - val_loss: 1.6607 - val_accuracy: 0.4206\n",
      "Epoch 41/50\n",
      "145/145 [==============================] - ETA: 0s - loss: 0.7727 - accuracy: 0.7762\n",
      "Epoch 41: val_loss did not improve from 1.44594\n",
      "145/145 [==============================] - 32s 220ms/step - loss: 0.7727 - accuracy: 0.7762 - val_loss: 1.7630 - val_accuracy: 0.3812\n",
      "Epoch 41: early stopping\n"
     ]
    }
   ],
   "source": [
    "model22=model.fit_generator(generator=train_gen,              \n",
    "                                    steps_per_epoch=len(train_gen),\n",
    "                                    validation_data=test_gen,                    \n",
    "                                    validation_steps=len(test_gen),\n",
    "                                    epochs=50,\n",
    "                                    callbacks = [es,mc], \n",
    "                                    verbose=1)"
   ]
  },
  {
   "cell_type": "code",
   "execution_count": null,
   "metadata": {},
   "outputs": [],
   "source": [
    "plt.plot(model22.history['accuracy'])\n",
    "plt.plot(model22.history['val_accuracy'])\n",
    "plt.title('accuracy')\n",
    "plt.ylabel('accuracy')\n",
    "plt.xlabel('epoch')\n",
    "plt.legend(['train', 'validation'], loc='upper left')\n",
    "plt.show()"
   ]
  },
  {
   "cell_type": "code",
   "execution_count": null,
   "metadata": {},
   "outputs": [],
   "source": []
  }
 ],
 "metadata": {
  "kernelspec": {
   "display_name": "Python 3",
   "language": "python",
   "name": "python3"
  },
  "language_info": {
   "codemirror_mode": {
    "name": "ipython",
    "version": 3
   },
   "file_extension": ".py",
   "mimetype": "text/x-python",
   "name": "python",
   "nbconvert_exporter": "python",
   "pygments_lexer": "ipython3",
   "version": "3.10.7"
  },
  "orig_nbformat": 4
 },
 "nbformat": 4,
 "nbformat_minor": 2
}
